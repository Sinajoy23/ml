{
 "cells": [
  {
   "cell_type": "markdown",
   "metadata": {},
   "source": [
    "# BERT Fine-Tuning for Legal QA with Hugging Face\n",
    "This Colab notebook fine-tunes a BERT model to answer legal questions about education rights for 3rd graders in D.C., using the `pile-of-law` dataset.\n",
    "\n",
    "Dataset: https://huggingface.co/datasets/pile-of-law/pile-of-law  \n",
    "Model: `bert-base-uncased` (QA task)\n"
   ]
  },
  {
   "cell_type": "code",
   "execution_count": 1,
   "metadata": {},
   "outputs": [],
   "source": [
    "#  Install Required Libraries\n",
    "!pip install transformers datasets accelerate --quiet"
   ]
  },
  {
   "cell_type": "code",
   "execution_count": 2,
   "metadata": {},
   "outputs": [
    {
     "name": "stdout",
     "output_type": "stream",
     "text": [
      "Requirement already satisfied: datasets in c:\\users\\user\\anaconda3\\lib\\site-packages (3.6.0)\n",
      "Requirement already satisfied: transformers in c:\\users\\user\\anaconda3\\lib\\site-packages (4.52.4)\n",
      "Requirement already satisfied: filelock in c:\\users\\user\\anaconda3\\lib\\site-packages (from datasets) (3.13.1)\n",
      "Requirement already satisfied: numpy>=1.17 in c:\\users\\user\\anaconda3\\lib\\site-packages (from datasets) (1.26.4)\n",
      "Requirement already satisfied: pyarrow>=15.0.0 in c:\\users\\user\\anaconda3\\lib\\site-packages (from datasets) (16.1.0)\n",
      "Requirement already satisfied: dill<0.3.9,>=0.3.0 in c:\\users\\user\\anaconda3\\lib\\site-packages (from datasets) (0.3.8)\n",
      "Requirement already satisfied: pandas in c:\\users\\user\\anaconda3\\lib\\site-packages (from datasets) (2.2.2)\n",
      "Requirement already satisfied: requests>=2.32.2 in c:\\users\\user\\anaconda3\\lib\\site-packages (from datasets) (2.32.3)\n",
      "Requirement already satisfied: tqdm>=4.66.3 in c:\\users\\user\\anaconda3\\lib\\site-packages (from datasets) (4.66.5)\n",
      "Requirement already satisfied: xxhash in c:\\users\\user\\anaconda3\\lib\\site-packages (from datasets) (3.5.0)\n",
      "Requirement already satisfied: multiprocess<0.70.17 in c:\\users\\user\\anaconda3\\lib\\site-packages (from datasets) (0.70.16)\n",
      "Requirement already satisfied: fsspec<=2025.3.0,>=2023.1.0 in c:\\users\\user\\anaconda3\\lib\\site-packages (from fsspec[http]<=2025.3.0,>=2023.1.0->datasets) (2024.6.1)\n",
      "Requirement already satisfied: huggingface-hub>=0.24.0 in c:\\users\\user\\anaconda3\\lib\\site-packages (from datasets) (0.33.0)\n",
      "Requirement already satisfied: packaging in c:\\users\\user\\anaconda3\\lib\\site-packages (from datasets) (24.1)\n",
      "Requirement already satisfied: pyyaml>=5.1 in c:\\users\\user\\anaconda3\\lib\\site-packages (from datasets) (6.0.1)\n",
      "Requirement already satisfied: regex!=2019.12.17 in c:\\users\\user\\anaconda3\\lib\\site-packages (from transformers) (2024.9.11)\n",
      "Requirement already satisfied: tokenizers<0.22,>=0.21 in c:\\users\\user\\anaconda3\\lib\\site-packages (from transformers) (0.21.1)\n",
      "Requirement already satisfied: safetensors>=0.4.3 in c:\\users\\user\\anaconda3\\lib\\site-packages (from transformers) (0.5.3)\n",
      "Requirement already satisfied: aiohttp!=4.0.0a0,!=4.0.0a1 in c:\\users\\user\\anaconda3\\lib\\site-packages (from fsspec[http]<=2025.3.0,>=2023.1.0->datasets) (3.10.5)\n",
      "Requirement already satisfied: typing-extensions>=3.7.4.3 in c:\\users\\user\\anaconda3\\lib\\site-packages (from huggingface-hub>=0.24.0->datasets) (4.11.0)\n",
      "Requirement already satisfied: charset-normalizer<4,>=2 in c:\\users\\user\\anaconda3\\lib\\site-packages (from requests>=2.32.2->datasets) (3.3.2)\n",
      "Requirement already satisfied: idna<4,>=2.5 in c:\\users\\user\\anaconda3\\lib\\site-packages (from requests>=2.32.2->datasets) (3.7)\n",
      "Requirement already satisfied: urllib3<3,>=1.21.1 in c:\\users\\user\\anaconda3\\lib\\site-packages (from requests>=2.32.2->datasets) (2.2.3)\n",
      "Requirement already satisfied: certifi>=2017.4.17 in c:\\users\\user\\anaconda3\\lib\\site-packages (from requests>=2.32.2->datasets) (2025.4.26)\n",
      "Requirement already satisfied: colorama in c:\\users\\user\\anaconda3\\lib\\site-packages (from tqdm>=4.66.3->datasets) (0.4.6)\n",
      "Requirement already satisfied: python-dateutil>=2.8.2 in c:\\users\\user\\anaconda3\\lib\\site-packages (from pandas->datasets) (2.9.0.post0)\n",
      "Requirement already satisfied: pytz>=2020.1 in c:\\users\\user\\anaconda3\\lib\\site-packages (from pandas->datasets) (2024.1)\n",
      "Requirement already satisfied: tzdata>=2022.7 in c:\\users\\user\\anaconda3\\lib\\site-packages (from pandas->datasets) (2023.3)\n",
      "Requirement already satisfied: aiohappyeyeballs>=2.3.0 in c:\\users\\user\\anaconda3\\lib\\site-packages (from aiohttp!=4.0.0a0,!=4.0.0a1->fsspec[http]<=2025.3.0,>=2023.1.0->datasets) (2.4.0)\n",
      "Requirement already satisfied: aiosignal>=1.1.2 in c:\\users\\user\\anaconda3\\lib\\site-packages (from aiohttp!=4.0.0a0,!=4.0.0a1->fsspec[http]<=2025.3.0,>=2023.1.0->datasets) (1.2.0)\n",
      "Requirement already satisfied: attrs>=17.3.0 in c:\\users\\user\\anaconda3\\lib\\site-packages (from aiohttp!=4.0.0a0,!=4.0.0a1->fsspec[http]<=2025.3.0,>=2023.1.0->datasets) (23.1.0)\n",
      "Requirement already satisfied: frozenlist>=1.1.1 in c:\\users\\user\\anaconda3\\lib\\site-packages (from aiohttp!=4.0.0a0,!=4.0.0a1->fsspec[http]<=2025.3.0,>=2023.1.0->datasets) (1.4.0)\n",
      "Requirement already satisfied: multidict<7.0,>=4.5 in c:\\users\\user\\anaconda3\\lib\\site-packages (from aiohttp!=4.0.0a0,!=4.0.0a1->fsspec[http]<=2025.3.0,>=2023.1.0->datasets) (6.0.4)\n",
      "Requirement already satisfied: yarl<2.0,>=1.0 in c:\\users\\user\\anaconda3\\lib\\site-packages (from aiohttp!=4.0.0a0,!=4.0.0a1->fsspec[http]<=2025.3.0,>=2023.1.0->datasets) (1.11.0)\n",
      "Requirement already satisfied: six>=1.5 in c:\\users\\user\\anaconda3\\lib\\site-packages (from python-dateutil>=2.8.2->pandas->datasets) (1.16.0)\n"
     ]
    }
   ],
   "source": [
    "!pip install --upgrade datasets transformers"
   ]
  },
  {
   "cell_type": "code",
   "execution_count": 3,
   "metadata": {},
   "outputs": [],
   "source": [
    "# Imports\n",
    "from datasets import load_dataset, Dataset\n",
    "from transformers import AutoTokenizer, AutoModelForQuestionAnswering, TrainingArguments, Trainer, pipeline\n",
    "import torch\n",
    "import random\n",
    "import pandas as pd"
   ]
  },
  {
   "cell_type": "code",
   "execution_count": 4,
   "metadata": {},
   "outputs": [
    {
     "name": "stderr",
     "output_type": "stream",
     "text": [
      "Loading Dataset Infos from C:\\Users\\User\\.cache\\huggingface\\modules\\datasets_modules\\datasets\\pile-of-law--pile-of-law\\c1090502f95031ebfad49ede680394da5532909fa46b7a0452be8cddecc9fa60\n",
      "Overwrite dataset info from restored data version if exists.\n",
      "Loading Dataset info from C:\\Users\\User\\.cache\\huggingface\\datasets/pile-of-law___pile-of-law/ed_policy_guidance/0.0.0/c1090502f95031ebfad49ede680394da5532909fa46b7a0452be8cddecc9fa60\n",
      "Found cached dataset pile-of-law (C:/Users/User/.cache/huggingface/datasets/pile-of-law___pile-of-law/ed_policy_guidance/0.0.0/c1090502f95031ebfad49ede680394da5532909fa46b7a0452be8cddecc9fa60)\n",
      "Loading Dataset info from C:/Users/User/.cache/huggingface/datasets/pile-of-law___pile-of-law/ed_policy_guidance/0.0.0/c1090502f95031ebfad49ede680394da5532909fa46b7a0452be8cddecc9fa60\n"
     ]
    },
    {
     "name": "stdout",
     "output_type": "stream",
     "text": [
      "Dataset 'pile-of-law' with subset 'ed_policy_guidance' loaded successfully!\n",
      "Dataset({\n",
      "    features: ['text', 'created_timestamp', 'downloaded_timestamp', 'url'],\n",
      "    num_rows: 507\n",
      "})\n",
      "\n",
      "First 3 examples:\n",
      "{'text': 'OSEP PRIOR APPROVAL GUIDANCE UNDER IDEA\\n\\nPOLICY SUPPORT 22-03\\n\\nOffice of Special Education Programs (OSEP)\\n\\nGuidance for Common Prior Approval Requests under IDEA Parts B and C\\nThis guidance provides a summary of the approval process and requirements for three common\\ncategories of direct costs for which State agencies must obtain prior approval before using\\nFederal funds under the Individuals with Disabilities Education Act (IDEA). Under the Office of\\nManagement and Budget (OMB), Uniform Administrative Requirements, Cost Principles, and\\nAudit Requirements for Federal Awards (OMB Uniform Guidance), certain items of cost are\\nunallowable as direct charges except with advanced prior written approval of the Department.\\n2 C.F.R. § 200.407. OSEP has developed this guidance to assist State Educational Agencies\\n(SEA) and State Lead Agencies (State LA) in preparing comprehensive, approvable requests\\nwhen SEAs and State LAs are using funds under the IDEA Part B 611 Grants to States, Section\\n619 Preschool Grants and IDEA Part C Grants for Infants and Families. This guidance is specific\\nto the following three (3) common categories of direct costs for which SEAs and State LAs are\\nrequired to obtain prior written approval from OSEP: 1\\nI.\\n\\nEquipment expenditures (with a per unit cost of $5,000 or more);\\n\\nII.\\n\\nParticipant Support Costs (such as stipends or subsistence allowances, travel\\nallowances, and registration fees paid to or on behalf of participants or trainees (not\\nState employees); and\\n\\nIII.\\n\\nRevision of cost items within budget and program plans (including transfers among\\ndirect cost categories in which the cumulative amount exceeds or is expected to exceed\\nten percent of the current total approved budget).\\n\\nAdditionally, this guidance reminds SEAs and LAs of applicable prior approvals granted through\\nthe Office of Special Education and Rehabilitative Services (OSERS) October 29, 2019\\nFrequently Asked Questions on Prior Approval (OSERS 2019 FAQ Memo). 2\\nAll prior approval requests should be submitted to your OSEP State Lead.\\n\\nFor questions specific to other categories of direct costs outside of this guidance (including, but not limited to,\\nconstruction or renovation of facilities, rent, occupancy or space maintenance costs), please contact your\\nOSEP State Lead. This memo also does not address indirect costs.\\n2\\nThe OSERS 2019 FAQ Memo, granted prior approval for certain participant support costs (PSCs). These include\\nPSCs that: (1) are for meetings required by IDEA; (2) are incurred as part of the provision of IDEA services;\\n(3) that do not exceed a total cost of $5,000 per individual participant or trainee per conference training or event;\\nand (4) incurred by local educational agencies (LEAs) under IDEA Part B for which the SEA has general\\nsupervision responsibilities under IDEA. If the SEA or State LA proposes to incur PSCs that fall outside the scope\\nof this prior approval, they will need to submit detailed requests for prior approval to OSEP under this guidance.\\nAdditionally, the OSERS 2019 FAQ Memo, granted prior approval for equipment charged to Federal IDEA\\nPart B and C funds for the delivery of services to eligible children with disabilities to ensure the timely delivery of\\nthose services.\\n1\\n\\nPage 1 of 7\\n\\n\\x0cOSEP PRIOR APPROVAL GUIDANCE UNDER IDEA\\n\\nPOLICY SUPPORT 22-03\\n\\nYour OSEP State Lead will work in conjunction with OSEP’s Fiscal Implementation Team in\\nthe review and approval process. 3 In response, OSEP will issue a written response that will\\napprove, deny, or require additional information based on the completeness of the request and\\nthe reasonableness and necessity of the underlying expenditure(s) for program purposes.\\nI. Equipment\\nAuthority\\nThe OMB Uniform Guidance at 2 C.F.R. § 200.1 defines equipment as “an article of tangible\\npersonal property (including information technology systems) having a useful life of more than\\none year and a per-unit acquisition cost which equals or exceeds the lesser of the capitalization\\nlevel established by the non-Federal entity for financial statement purposes, or $5,000.”\\nUnder 34 C.F.R. §§ 300.718(a) and 303.104(a) of IDEA Parts B and C regulations, if the\\nSecretary determines that a program authorized under IDEA will be improved by permitting\\nprogram funds to be used to acquire appropriate equipment, the Secretary is authorized to allow\\nthe use of those funds for those purposes.\\nAdditionally, the Part B regulations at 34 C.F.R. § 300.14, defines the term “equipment” to\\ninclude — (a.) Machinery, utilities, and built-in equipment, and any necessary enclosures or\\nstructures to house such machinery, utilities, or equipment; and (b.) All other items necessary for\\nthe functioning of a particular facility as a facility for the provision of educational services,\\nincluding items such as instructional equipment and necessary furniture; printed, published, and\\naudio-visual instructional materials; telecommunications, sensory, and other technological aids\\nand devices; and books, periodicals, documents, and other related materials.\\nSEA and State LA requests to use IDEA Part B or Part C funds to purchase equipment should be\\nsubmitted to OSEP within a reasonable amount of time to allow for OSEP’s review of the\\nrequest, assurances and supporting documentation prior to the actual expenditure (s). These\\nrequests must address certain compliance requirements, including but not limited to requirements\\nfrom Subpart D (Post Federal Award Requirements) and Subpart E (Cost Principles) of the\\nOMB Uniform Guidance.\\nPart B — Subrecipient Requests for Equipment\\nPlease note that SEAs will continue to have the authority, as the pass-through entity, to review\\nand approve LEAs’ requests to use IDEA Part B funds for the purchase of equipment.\\n2 C.F.R. § 200.439(b) (1)–(3).\\n\\n3\\n\\nPlease note that prior approval submissions must be submitted to OSEP in final form as OSEP\\ncannot approve draft requests.\\nPage 2 of 7\\n\\n\\x0cOSEP PRIOR APPROVAL GUIDANCE UNDER IDEA\\n\\nPOLICY SUPPORT 22-03\\n\\nOSEP also reminds SEAs of their subrecipient monitoring responsibilities to ensure compliance\\nwith the IDEA requirements at 34 C.F.R. § 300.149 and the OMB Uniform Guidance\\nrequirements at 2 C.F.R. §§ 200.329(a) and 200.332(d). 4\\nPart C — Subawardee Requests for Equipment, Including Requests from Partner Agencies\\nand Early Intervention Service (EIS) Providers\\nAll requests, including any requests generated by early intervention service (EIS) providers must\\nbe reviewed, and approved by OSEP prior to the expenditure of IDEA Part C funds for\\nequipment.\\nIf the State LA subgrants with an EIS provider or other eligible entity, the State LA will have the\\nauthority, as the pass-through entity, to review and approve the use IDEA Part C funds for the\\npurchase of equipment and ensure compliance with IDEA and the OMB Uniform Guidance at\\n2 C.F.R. §§ 200.329(a) and 200.332(d) through its subrecipient monitoring responsibilities. 5\\nPrior approval for certain equipment expenditures under IDEA\\nOSERS’ 2019 FAQ Memo grants prior approval for SEAs and State LAs for equipment (defined\\ngenerally as $5,000 or more per item of equipment) “that is to be charged to IDEA Part B or Part\\nC funds and is identified on, or directly related to the implementation of, either individualized\\neducation programs (IEPs) for children and youth with disabilities or individualized family\\nservice plans (IFSPs) for infants and toddlers with disabilities and their families to ensure the\\ntimely delivery of those services.” This includes services such as assistive technology devices\\nlisted on the IEP or IFSP as well as equipment needed to provide IEP or IFSP services.” 6\\nIf the purchase of equipment falls outside of the scope of the prior approval granted in OSERS\\n2019 FAQ Memo, the SEA or State LA must submit a prior approval request to OSEP.\\nPrior approval request for equipment expenditures under IDEA\\nRequests for prior approval of general-purpose equipment expenditures should support the\\nreasonableness and necessity of the equipment for the proper and efficient performance of the\\nIDEA Parts B or C program and establish the extent to which the equipment is assignable to Part\\nB or Part C of the program (i.e., that the benefit received by the program from the equipment is\\n\\nSubrecipients of IDEA Part B grants must meet the OMB Uniform Guidance requirements for procurement in\\n2 C.F.R. §§ 200.318 through 200.327 and the requirements for equipment in 2 C.F.R. § 200.313.\\n5\\nThe Consolidated Appropriations Acts of 2021 and 2022 (Public Laws 116-260 and 117-103, respectively)\\nprovided State LAs with the flexibility to use FFY 2021 and FFY 2022 IDEA Part C funds to “make subgrants to\\nlocal educational agencies, institutions of higher education, other public agencies, and private non-profit\\norganizations to carry out activities authorized by Section 638 of IDEA.” Generally, subrecipients of IDEA Part C\\ngrants must meet the OMB Uniform Guidance requirements for procurement in 2 C.F.R. §§ 200.318 through\\n200.327 and the requirements for equipment in 2 C.F.R. § 200.313.\\n6\\nSee, pg. 5, OSEP — Prior Approval for Equipment under IDEA at:\\nhttps://www2.ed.gov/policy/speced/guid/faq-prior-approval-10-29-2019.pdf.\\n4\\n\\nPage 3 of 7\\n\\n\\x0cOSEP PRIOR APPROVAL GUIDANCE UNDER IDEA\\n\\nPOLICY SUPPORT 22-03\\n\\nproportionate to the degree to which the program is paying for the equipment). To do so, those\\nrequests must include:\\n1. A description of how the equipment purchase will improve Part B and specifically benefit\\nchildren with disabilities or improve Part C and specifically benefit infants and toddlers\\nwith disabilities;\\n2. Supporting documentation (i.e., specifications for the equipment and its capabilities,\\npurchase requisitions, quotes/price comparison, etc.), as appropriate including the total\\namount of IDEA funds the SEA or State LA intends to expend; and\\n3. A description of how the IDEA Part B or Part C program will secure the equipment and\\nensure authorized use (and/or sole use) of the equipment by the program. 7\\nAdditionally, in its request, the SEA or State LA must provide OSEP with evidence such as\\ndocumentation or assurances supporting its compliance with the following requirements under\\nthe OMB Uniform Guidance, including its responsibility to:\\n1. Comply with 2 C.F.R. § 200.317 regarding procurement; and\\n2.\\n\\nManaging, maintaining and disposing of equipment as required by the OMB Uniform\\nGuidance at 2 C.F.R. §§ 200.313(a) and (b); and 200.439.\\n\\nII. Participant Support Costs\\nAuthority\\nUnder 2 C.F.R. § 200.1 of the OMB Uniform Guidance, participant support costs (PSCs) are\\ndefined as direct costs for items such as stipends or subsistence allowances, travel allowances,\\nand registration fees paid to or on behalf of participants or trainees (but not State employees), in\\nconnection with conferences or training projects.\\nOSERS’ 2019 FAQ Memo granted prior approval for several PSCs under IDEA including PSCs\\ndirectly related to:\\n\\n7\\n\\n•\\n\\nIDEA Part B State Advisory Panels, for SEAs;\\n\\n•\\n\\nIDEA Part C State Interagency Coordinating Councils for State LAs;\\n\\n•\\n\\nPSCs incurred during the provision of special education and related services under IEPs\\nfor children and youth with disabilities;\\n\\n•\\n\\nPSCs incurred during the provision early intervention services under IFSPs for infants\\nand toddlers with disabilities and their families; and\\n\\nSee. 2 C.F.R. §§ 200.403 (Factors affecting allowability of costs), 200.404 (Reasonable costs) and 200.405\\n(Allocable costs).\\n\\nPage 4 of 7\\n\\n\\x0cOSEP PRIOR APPROVAL GUIDANCE UNDER IDEA\\n•\\n\\nPOLICY SUPPORT 22-03\\n\\nOther PSCs that do not exceed $5,000 per individual participant per training/conference.\\n\\nOSERS’ 2019 FAQ Memo also grants prior approval for “all PSCs incurred by LEAs under\\nIDEA Part B given that the SEA has general supervision responsibilities under IDEA and the\\nOMB Uniform Guidance to review such costs, including the requirement to ensure that all costs\\n“[b]e necessary and reasonable for the performance of the Federal award and be allocable thereto\\nunder these principles.” 8\\nSince the release of OSERS’ 2019 FAQ Memo, OSEP has experienced a decline in the number\\nof PSC prior approval requests from SEAs and State LAs. However, there may be instances in\\nwhich a PSC falls outside the scope of OSERS 2019 FAQ Memo or exceeds the $5,000 per\\nparticipant threshold. In such situations, the SEA or State LA must still submit a prior written\\napproval request to OSEP.\\nPrior Approval Requests for Participant Support Costs under IDEA\\nTo obtain prior approval for PSCs that fall outside the scope of OSERS’ 2019 FAQ Memo, the\\nSEA or State LA must submit a request to OSEP that supports how the PSCs are reasonable,\\nnecessary, and allocable. Requests must include:\\n1. A description of how the PSC will improve the IDEA Part B or Part C program,\\nspecifically, how children with disabilities or infants and toddlers with disabilities will\\nbenefit from the costs including the total amount of the cost (s);\\n2. Supporting documentation including but not limited to a description of the activity the\\ncost will be used for, elements of the cost (i.e., travel, registration, and individual\\nparticipant costs), specific timeframe of the activity, and the role of participant(s) or\\ntrainee(s) related to the IDEA Part B or Part C program; 9 and\\n3. The total amount of PSCs charged to the IDEA Part B or Part C grant and the Federal\\ngrant award for which the charges are being requested.\\nPSCs and the IDEA Part C Annual Grant Application\\nConsistent with the Instruction Sheet for the Part C Annual State Application under IDEA, State\\nLAs should note any activities or expenses listed under Section III.B that fall outside the scope\\nof the OSERS’ 2019 FAQ Memo and that require OSEP’s prior approval. As a reminder,\\napproval of the State’s annual IDEA Part C grant application does not constitute OSEP’s prior\\n\\nFor further information, see pg. 3 #6A at https://www2.ed.gov/policy/speced/guid/faq-prior-approval-10-292019.pdf.\\n9\\nOSEP wants to remind the SEA and LA that all applicable statutory requirements, including OMB’s cost\\nprinciples must be followed if food and beverage costs will be incurred. Please also refer to guidance issued by the\\nDepartment in May 2013 titled “Frequently Asked Questions to Assist U.S. Department of Education Grantees to\\nAppropriately Use Federal Funds for Conferences and Meetings.”\\n8\\n\\nPage 5 of 7\\n\\n\\x0cOSEP PRIOR APPROVAL GUIDANCE UNDER IDEA\\n\\nPOLICY SUPPORT 22-03\\n\\napproval of those expenses unless OSEP notes otherwise. As with other prior approval requests,\\nsupporting documentation must be submitted, reviewed, and formally approved by OSEP.\\nAll other requests for prior written approval must be submitted at least 60 days prior to the event\\nvia electronic mail.\\nIII. Budget\\nAuthority\\nUnder 2 C.F.R. § 200.308(b), the SEA or State LA must obtain approval from OSEP before\\nmaking certain IDEA Part B or Part C annual budget related requests. This section addresses the\\nmost common budget related changes that OSEP receives but is not inclusive of all the related\\nrequirements (please see 2 C.F.R. § 200.308 for the complete regulation).\\nIn accordance with 2 C.F.R. § 200.308(f), the SEA must obtain approval from OSEP if the\\ncumulative transfers among direct cost categories, or, if applicable, among separately budgeted\\nprograms, projects, functions, or activities which exceed or are expected to exceed ten percent of\\nthe current total approved budget (whenever the award exceeds $100,000) for:\\n1. IDEA 611 funds transfers between State-level activities in 34 C.F.R. § 300.704; and\\n2. IDEA 619 fund transfers between State activities, State administration, and other Statelevel activities in 34 C.F.R §§ 300.812–300.814.\\nSimilarly, under Part C of IDEA, the State LA must obtain approval when it makes changes to\\nSection III of its Annual IDEA Part C Grant Application by making cumulative transfers among\\ndirect cost categories which exceed or are expected to exceed ten percent of the total approved\\nbudget (or ten percent of the total amount of the IDEA Part C grant award).\\n2 C.F.R. §200.308(f).10\\nAdditionally, under 2 C.F.R. § 200.308(c)(2), OSEP reminds State LAs that notification must be\\nprovided to OSEP when there is a “change in a key person specified in the application or the\\nFederal award” as listed under Section II.D. of the IDEA Part C Annual Grant Application.\\nFinally, OSEP reminds its IDEA Part B and Part C grantees that prior approval has been granted\\nand is no longer required as stated in the OSERS 2019 FAQ Memo, for budget revisions for the\\ntransfer of funds budgeted for PSCs if an OSEP grantee chooses to no longer charge PSCs to\\ntheir Federal award after the initial approval as required by 2 C.F.R. § 200.308(c)(5)). For all\\n10\\n\\nPlease note that this provision applies to the cumulative amount. A one-time adjustment may not trigger the need\\nfor prior approval but the total amount of budget changes for the approved Federal fiscal year (FFY) may require\\nOSEP’s prior approval when the threshold is met or exceeded. Therefore, States should keep track of all budget\\nadjustments.\\n\\nPage 6 of 7\\n\\n\\x0cOSEP PRIOR APPROVAL GUIDANCE UNDER IDEA\\n\\nPOLICY SUPPORT 22-03\\n\\nother budget related revisions that consistent with 2 C.F.R. § 200.308, SEAs and State LAs will\\nneed to submit written documentation to OSEP for review and approval.\\nIDEA Part B Budget Related Requests\\nTo obtain prior approval, the SEA must submit a request that includes:\\n1. An explanation of the specific changes requested, including the amount and the FFY the\\nchanges are being requested for, and\\n2. For IDEA 611 funds, a revised interactive spreadsheet from the State’s IDEA Part B\\nApplication for the FFY in which the changes are being requested, or\\n3. For IDEA 619 funds, a current use of funds document and a proposed use of funds\\ndocument. The State may use its own forms if the forms provide budget details consistent\\nwith State activities, State administration, and other State-level activities in\\n34 C.F.R. §§ 300.812-300.814.\\nIDEA Part C Budget Related Requests\\nTo obtain prior approval, the State LA must submit a request that includes:\\n1. An explanation of the specific changes requested, including the amount and the FFY the\\nchanges are being requested for; and\\n2. A revised Section III of the State’s IDEA Part C Application for the FFY in which the\\nchanges are being requested.\\nFor budget revisions, OSEP is required to review and notify the SEA or LA if the request has\\nbeen approved or is still under consideration. 2 CFR § 200.308(j).\\nIf you have any questions or need assistance, please contact your OSEP State Lead or your IDEA\\nTechnical Assistance provider.\\n\\nPage 7 of 7\\n\\n\\x0c', 'created_timestamp': '', 'downloaded_timestamp': '01-04-2023', 'url': 'https://sites.ed.gov/idea/files/OSEP-Prior-Approval-Guidance-Policy-Support-22-03.pdf'}\n",
      "{'text': 'UNITED STATES DEPARTMENT OF EDUCATION\\nOFFICE OF SPECIAL EDUCATION AND REHABILITATIVE SERVICES\\nOFFICE OF SPECIAL EDUCATION PROGRAMS\\nDIRECTOR\\n\\nOSEP Policy Letter 22-06\\nNovember 16, 2022\\nDr. Jacquelyn Flanigan\\nAssociate Superintendent\\nDiocese of Orlando – Office of Catholic Schools\\nPost Office Box 1800\\nOrlando, Florida 32802-1800\\nDear Dr. Flanigan:\\nThank you for your July 12, 2022, email inquiry to the U.S. Department of Education\\n(Department), Office of Non-Public Education (ONPE). Your inquiry was referred to the Office\\nof Special Education Programs (OSEP), a component of the Office of Special Education and\\nRehabilitative Services, and in developing a response, OSEP conferred with ONPE to fully\\nunderstand the inquiry.\\nIn your initial email, you raised three questions and, based on follow-up conversations, we\\nunderstand that you would like a written response to two of your three questions. First, you ask\\nwhether a child who has been identified as a child with a disability under Part B of the\\nIndividuals with Disabilities Education Act (IDEA), but for whom the parent has rejected the\\noffer of a free appropriate public education, must be counted when calculating the proportionate\\nshare of IDEA Part B funds that a local educational agency (LEA) is required to spend on the\\nprovision of equitable services to parentally-placed private school children with disabilities\\nenrolled in private schools in the LEA. Second, you ask about a Memorandum of Understanding\\n(MOU) that the School Board of Brevard County, Brevard County Public Schools (BCPS), an\\nLEA in Florida, is requiring schools in the Diocese of Orlando to sign in order for BCPS to\\nprovide equitable services under Part B of the IDEA to parentally-placed private school children\\nwith disabilities. We interpret your second question to be whether it is consistent with IDEA for\\nBCPS to require a private school to enter into an MOU as a condition of the LEA providing\\nequitable services for parentally-placed private school children with disabilities enrolled at that\\nschool.\\nSection 607(d) of the IDEA prohibits the Secretary of the Department from issuing policy letters\\nor other statements that establish a rule that is required for compliance with, and eligibility\\nunder, IDEA without following the rulemaking requirements of Section 553 of the\\nAdministrative Procedure Act. Therefore, based on the requirements of IDEA Section 607(e),\\nthis response is provided as informal guidance and is not legally binding. It represents an\\ninterpretation by the Department of the requirements of IDEA in the context of the specific facts\\npresented and does not establish a policy or rule that would apply in all circumstances. Other\\nthan statutory and regulatory requirements included in the document, the contents of this\\nguidance do not have the force and effect of law and are not meant to bind the public. This\\n400 MARYLAND AVE. S.W., WASHINGTON, DC 20202-2800\\nwww.ed.gov\\nThe Department of Education’s mission is to promote student achievement and preparation for global competitiveness\\nby fostering educational excellence and ensuring equal access.\\n\\n\\x0cdocument is intended only to provide clarity to the public regarding existing requirements under\\nthe law or agency policies. Further, the Department responds to these matters, generally, and not\\nin the context of any specific due process complaint or State complaint that may be pending or\\nresolved.\\nRegarding your first question, the Department recently issued Questions and Answers on Serving\\nChildren with Disabilities Placed by Their Parents in Private Schools (Feb. 2022). The Q&As\\nprovide additional information regarding the consultation process including filing complaints and\\nare located on the Department’s website at:\\nhttps://sites.ed.gov/idea/files/QA_on_Private_Schools_02-28-2022.pdf. As addressed in Q&A\\nN-2 of that document, “[a]ll children who have been evaluated and found eligible for special\\neducation and related services—not solely those children who receive services through an IEP or\\nservices plan—must be included in the count to calculate the proportionate share…” (emphasis\\nadded). Therefore, any student found eligible under IDEA who is enrolled by their parent in a\\nprivate elementary or secondary school, 1 whether or not they have a current or prior IEP or\\nservices plan, must be counted when calculating the proportionate share.\\nIn response to your second question, IDEA’s mechanism for private school involvement in the\\ndesign and development of equitable services is through timely and meaningful consultation as\\ndescribed in 34 C.F.R. § 300.134. Consultation is an ongoing process that happens throughout\\nthe school year between the LEA, private school representatives, and representatives of parents\\nof parentally-placed private school children with disabilities. Further, determinations of\\nequitable services for an individual child, including the anticipated frequency, location, and\\nduration of the equitable services that the LEA will provide, must be included in a child’s\\nservices plan. 34 C.F.R. §§ 300.137-300.139.\\nThe responsibility for providing IDEA equitable services lies with the LEA. Services may be\\nprovided onsite at a child’s private school, or another location as discussed during consultation.\\n34 C.F.R. § 300.139. IDEA does not require that the private school administer any portion of an\\nLEA’s equitable services requirements on behalf of the LEA. IDEA also does not require an\\nLEA to use, or prohibit an LEA from using, an MOU in order to provide equitable services at\\neither the private school or another location. However, a private school’s declining to sign an\\nMOU cannot be a basis for an LEA’s denying the provision of equitable services to parentallyplaced private school children with disabilities enrolled at that school who are otherwise eligible\\nto receive such services.\\nAs a general matter, the Department believes that the terms of any proposed MOU regarding the\\nprovision of equitable services must be consistent with IDEA. For example, an MOU must not\\nprohibit the private school from filing a complaint with the State educational agency (SEA), as\\nappropriate. Under 34 C.F.R. § 300.136, a private school official has the right to raise\\ncomplaints to the SEA regarding the consultation process, including whether it was meaningful\\nand timely, and whether due consideration was given to the views of the private school official.\\n1\\n\\nSee Question and Answer A-1 of the above referenced Q&As: “The IDEA Part B regulations define parentallyplaced private school children with disabilities as children with disabilities under 34 C.F.R. § 300.8, enrolled by\\ntheir parents in private, including religious, schools or facilities that meet the definition of elementary school in\\n34 C.F.R. § 300.13 or secondary school in 34 C.F.R. § 300.36.” (internal footnotes omitted).\\n\\n\\x0cIn the Department’s view, timely and meaningful consultation could include discussion of any\\nproposed MOU. Any MOU that prohibits or limits a private school official’s right to file a State\\ncomplaint under IDEA, or the rights of parentally placed private school children with disabilities\\nunder IDEA, 2 would be inconsistent with IDEA.\\nWe hope that this addresses the questions that you have raised. If you have additional questions,\\nplease feel free to contact Pamela Allen in ONPE at pamela.allen@ed.gov, or, in OSEP, Dwight\\nThomas at dwight.thomas@ed.gov, or Travis Bryant at travis.bryant@ed.gov.\\nSincerely,\\n/s/\\nValerie C. Williams\\nCc: Victoria Gaitanis, Florida Department of Education\\nMaureen Dowling, Director, Office of Non-Public Education\\n\\n2\\n\\nNo parentally placed private school child with a disability has an individual right to receive some or all of the\\nspecial education and related services that the child would receive if enrolled in a public school.\\n34 C.F.R. § 300.137(a).\\n\\n\\x0c', 'created_timestamp': '', 'downloaded_timestamp': '01-04-2023', 'url': 'https://sites.ed.gov/idea/files/OSEP-Policy-Letter-22-06-to-Flanigan-11-16-2022.pdf'}\n",
      "{'text': 'UNITED STATES DEPARTMENT OF EDUCATION\\nOFFICE OF SPECIAL EDUCATION AND REHABILITATIVE SERVICES\\nOFFICE OF SPECIAL EDUCATION PROGRAMS\\nDIRECTOR\\n\\nOSEP Policy Letter 22-05\\nNovember 1, 2022\\nVirginia Sharpless\\nSent via email\\nDear Ms. Sharpless:\\nThis letter responds to your email correspondence to Lisa Pagano, Policy Specialist, Office of\\nSpecial Education Programs (OSEP), U.S. Department of Education (Department). In that\\nemail you asked that OSEP clarify the requirements under the Individuals with Disabilities\\nEducation Act (IDEA) related to the procedures parents must follow when requesting an initial\\nevaluation to determine their child’s eligibility for special education and related services.\\nSpecifically, you asked the following:\\nWhen a parent asks for “testing because I think there might be a problem” (or similar\\nwording), would this request count as an “oral request for an initial evaluation?” If not,\\nis the LEA obligated in any way to provide assistance and explain to the parent of their\\nright to request an initial evaluation? Or, when the parent is having a verbal\\nconversation with the school and the parent asks a school to “test their child,” can a\\nschool stay silent about the parent’s right to request an initial evaluation?\\nWe sincerely regret the delay in responding to your inquiry and thank you for your patience.\\nWe note that Section 607(d) of the IDEA prohibits the Secretary of the Department from\\nissuing policy letters or other statements that establish a rule that is required for compliance\\nwith, and eligibility under, IDEA without following the rulemaking requirements of Section\\n553 of the Administrative Procedure Act. Therefore, based on the requirements of IDEA\\nSection 607(e), this response is provided as informal guidance and is not legally binding. It\\nrepresents an interpretation by the Department of the requirements of IDEA in the context of\\nthe specific facts presented and does not establish a policy or rule that would apply in all\\ncircumstances. Other than statutory and regulatory requirements included in the document, the\\ncontents of this guidance do not have the force and effect of law and are not meant to bind the\\npublic. This document is intended only to provide clarity to the public regarding existing\\nrequirements under the law or agency policies.\\nUnder IDEA Part B, each eligible child with a disability is entitled to a free appropriate public\\neducation (FAPE) that emphasizes special education and related services designed to meet the\\nchild’s unique needs and that prepare the child for further education, employment, and\\nindependent living. 34 C.F.R. § 300.101. All States and local educational agencies (LEAs) share\\n400 MARYLAND AVE. S.W., WASHINGTON, DC 20202-2800\\nwww.ed.gov\\nThe Department of Education’s mission is to promote student achievement and preparation for global competitiveness\\nby fostering educational excellence and ensuring equal access.\\n\\n\\x0cPage 2 - Virginia Sharpless\\nan obligation to make FAPE available to each eligible child, ages 3-21, residing in their\\njurisdiction. To meet this obligation, States must adhere to IDEA’s child find requirements in the\\nPart B regulations at 34 C.F.R. § 300.111. Each State must have in effect policies and procedures\\nto ensure that all children with disabilities residing in the State, including children with\\ndisabilities who are homeless children or are wards of the State, and children with disabilities\\nattending private schools, regardless of the severity of their disability, and who are in need of\\nspecial education and related services, are identified, located, and evaluated. 34 C.F.R. §\\n300.111(a)(1)(i). 1\\nWhile IDEA requires every State to identify, locate, and evaluate all children with disabilities\\nwho need special education and related services, it does not provide specific requirements\\nregarding the manner in which a request for an initial evaluation of a child suspected of having a\\ndisability must be made. In the absence of specific provisions, States may develop their own\\nprocedures, provided they are not inconsistent with, and do not substantially limit, a parent’s 2\\nright to request an initial evaluation under IDEA.\\nMany States utilize similar practices and procedures for conducting child find activities,\\nincluding specific methods for parents to make referrals for an evaluation for special education\\nand related services under IDEA. We are aware that States and LEAs often require that parents\\nsubmit their request for an IDEA initial evaluation in writing. Some States may further require\\nthat parents use a specific form to make an official request. Such procedures are often designed\\nto provide a simple and consistent format to ensure parental consent, establish the date of the\\nparent’s request, and for measuring against the evaluation timeline. While States may require\\nthat a parent submit their request for an IDEA evaluation in writing, because some parents may\\nbe unaware of how or when to submit such requests, additional actions may be necessary to\\neffectively carry out its child find obligations. For example, a parent may need assistance in\\nunderstanding or completing the required forms for a variety of reasons, such as lacking\\nresources such as a computer or internet access or having limited proficiency in English – any of\\nwhich could substantially limit their ability to submit their request in writing. 3\\n\\n1\\n\\nChild find efforts must include— (1) children who are suspected of being a child with a disability under 34 C.F.R\\n§ 300.8 and in need of special education, even though they are advancing from grade to grade; and (2) highly mobile\\nchildren, including migrant children. 34 C.F.R § 300.111(c)(1)-(2). While addressed in separate provisions, the\\nrequirements for special education referrals and child find are closely related and need to work in concert.\\n\\nUnder 34 C.F.R. § 300.30(a), the term “parent” means: (1) a biological or adoptive parent of a child; (2) a foster\\nparent, unless State law, regulations, or contractual obligations with a State or local entity prohibit a foster parent\\nfrom acting as a parent; (3) a guardian generally authorized to act as the child’s parent, or authorized to make\\neducational decisions for the child (but not the State if the child is a ward of the State); (4) an individual acting in the\\nplace of a biological or adoptive parent (including a grandparent, stepparent, or other relative) with whom the child\\nlives, or an individual who is legally responsible for the child’s welfare; or (5) a surrogate parent who has been\\nappointed in accordance with 34 C.F.R. § 300.519 or Section 639(a)(5) of the IDEA. Under 34 C.F.R. §\\n300.520(a)(1)(ii), a State may provide that when a child with a disability reaches the age of majority under State law\\nthat applies to all children (except for a child with a disability who has been determined to be incompetent under\\nState law), all rights accorded to parents under Part B of the IDEA transfer to the child.\\n\\n2\\n\\nStates and LEAs have certain communication responsibilities to parents under Federal civil rights laws, including\\nSection 504 of the Rehabilitation Act of 1973 and Title II of the Americans with Disabilities Act, which are beyond\\n\\n3\\n\\n\\x0cPage 3 - Virginia Sharpless\\n\\nIDEA does not directly address whether a State or LEA may completely ignore a verbal request,\\nbecause it was not in writing or did not contain specific language, terminology, or “trigger\\nwords,” or because it otherwise fails to meet a specific technical requirement. In the\\nDepartment’s view, when these additional steps pose a substantial limitation for certain parents\\nto access an initial evaluation for their child under IDEA, the failure to provide additional\\ninformation or assistance could potentially violate IDEA’s child find obligations. Therefore,\\nStates and LEAs need to properly address a parent’s verbal request that can be reasonably\\nunderstood as a request for an initial evaluation under IDEA, but where additional actions are\\nrequired under State or local provisions. Examples of reasonable and appropriate responses for\\nschool personnel include: providing the parent with information and assistance such as a copy of\\nits notice of procedural safeguards required under IDEA; further explaining the right to, and\\nprocedures for, initiating an evaluation under IDEA; and, providing any assistance the parent\\nrequires to submit the request. Because the responsibility for meeting IDEA’s child find\\nrequirements rests with States and LEAs – not with parents – the evaluation referral process must\\nsupport, and not undermine, the effectiveness of the child find process.\\nOSEP encourages all States and LEAs to examine their rules and procedures to determine if\\nthose rules create barriers for a parent to request an evaluation of their child under IDEA. OSEP\\nfurther encourages States to determine if their child find procedures offer fair and equitable\\nopportunities for all parents to request an initial evaluation under IDEA to address their child’s\\nacademic or behavioral needs. 4\\nWe thank you for your interest in ensuring that States and LEAs have appropriate procedures in\\nplace to address a parent’s request for an evaluation of their child under IDEA. We trust that the\\ninformation in this letter is responsive to your inquiry. If you have further questions, please\\ncontact Lisa Pagano at 202-245-7413 or by email at Lisa.Pagano@ed.gov.\\nSincerely,\\n/s/\\nValerie C. Williams\\n\\nthe scope of this document. Additional information is available from the Department’s Office for Civil Rights web\\nsite.\\nThis letter only addresses requirements under IDEA. Children with disabilities also have rights under the two civil\\nrights laws that prohibit discrimination on the basis of disability referenced in footnote 3.\\n\\n4\\n\\n\\x0c', 'created_timestamp': '', 'downloaded_timestamp': '01-04-2023', 'url': 'https://sites.ed.gov/idea/files/osep-policy-letter-22-05-to-virginia-sharpless-11-01-2022.pdf'}\n"
     ]
    }
   ],
   "source": [
    "from datasets import load_dataset\n",
    "\n",
    "# Load the \"pile-of-law\" dataset with the \"ed_policy_guidance\" configuration/subset\n",
    "# This is the correct way to load a specific subset from the Hugging Face Hub.\n",
    "try:\n",
    "    dataset = load_dataset(\"pile-of-law/pile-of-law\", \"ed_policy_guidance\", split=\"train\", trust_remote_code=True)\n",
    "    print(\"Dataset 'pile-of-law' with subset 'ed_policy_guidance' loaded successfully!\")\n",
    "    print(dataset)\n",
    "\n",
    "    # You can inspect the first few examples to ensure it's what you expect\n",
    "    print(\"\\nFirst 3 examples:\")\n",
    "    for i in range(min(3, len(dataset))):\n",
    "        print(dataset[i])\n",
    "\n",
    "except Exception as e:\n",
    "    print(f\"An error occurred: {e}\")\n",
    "    print(\"Please ensure you have an active internet connection and that the 'datasets' library is up to date.\")\n",
    "    print(\"You might also want to try updating the datasets library: pip install --upgrade datasets\")"
   ]
  },
  {
   "cell_type": "code",
   "execution_count": 5,
   "metadata": {},
   "outputs": [],
   "source": [
    "#  Build QA Dataset (Manually labeled subset for demo)\n",
    "qa_data = [\n",
    "    {\n",
    "        \"context\": example[\"text\"],\n",
    "        \"question\": \"What education rights do 3rd grade students have in D.C.?\",\n",
    "        \"answers\": {\n",
    "            \"text\": [\"free and appropriate public education\"],\n",
    "            \"answer_start\": [example[\"text\"].lower().find(\"free and appropriate public education\")]\n",
    "        }\n",
    "    }\n",
    "    for example in dataset if \"free and appropriate public education\" in example[\"text\"].lower()\n",
    "]\n",
    "qa_dataset = Dataset.from_list(qa_data)"
   ]
  },
  {
   "cell_type": "code",
   "execution_count": 6,
   "metadata": {},
   "outputs": [
    {
     "data": {
      "application/vnd.jupyter.widget-view+json": {
       "model_id": "9b513a0c687e41dc98d074580beaefd4",
       "version_major": 2,
       "version_minor": 0
      },
      "text/plain": [
       "Map:   0%|          | 0/1 [00:00<?, ? examples/s]"
      ]
     },
     "metadata": {},
     "output_type": "display_data"
    }
   ],
   "source": [
    "# Tokenization\n",
    "tokenizer = AutoTokenizer.from_pretrained(\"bert-base-uncased\")\n",
    "\n",
    "# Define a preprocessing function to tokenize the dataset\n",
    "\n",
    "def preprocess_training_example(example):\n",
    "    inputs = tokenizer(\n",
    "        example[\"question\"],\n",
    "        example[\"context\"],\n",
    "        truncation=\"only_second\",\n",
    "        padding=\"max_length\",\n",
    "        max_length=512,\n",
    "        return_offsets_mapping=True\n",
    "    )\n",
    "\n",
    "    offset_mapping = inputs.pop(\"offset_mapping\")\n",
    "    answer = example[\"answers\"][\"text\"][0]\n",
    "    start_char = example[\"answers\"][\"answer_start\"][0]\n",
    "    end_char = start_char + len(answer)\n",
    "\n",
    "    # Initialize\n",
    "    start_token = end_token = 0\n",
    "\n",
    "    for idx, (start, end) in enumerate(offset_mapping):\n",
    "        if start <= start_char < end:\n",
    "            start_token = idx\n",
    "        if start < end_char <= end:\n",
    "            end_token = idx\n",
    "            break\n",
    "\n",
    "    inputs[\"start_positions\"] = start_token\n",
    "    inputs[\"end_positions\"] = end_token\n",
    "    return inputs\n",
    "\n",
    "# Apply the function to dataset\n",
    "tokenized_dataset = qa_dataset.map(preprocess_training_example)"
   ]
  },
  {
   "cell_type": "code",
   "execution_count": 7,
   "metadata": {},
   "outputs": [
    {
     "data": {
      "text/plain": [
       "dict_keys(['context', 'question', 'answers', 'input_ids', 'token_type_ids', 'attention_mask', 'start_positions', 'end_positions'])"
      ]
     },
     "execution_count": 7,
     "metadata": {},
     "output_type": "execute_result"
    }
   ],
   "source": [
    "tokenized_dataset[0].keys()\n"
   ]
  },
  {
   "cell_type": "code",
   "execution_count": 8,
   "metadata": {},
   "outputs": [
    {
     "name": "stderr",
     "output_type": "stream",
     "text": [
      "Some weights of BertForQuestionAnswering were not initialized from the model checkpoint at bert-base-uncased and are newly initialized: ['qa_outputs.bias', 'qa_outputs.weight']\n",
      "You should probably TRAIN this model on a down-stream task to be able to use it for predictions and inference.\n",
      "c:\\Users\\User\\anaconda3\\Lib\\site-packages\\torch\\utils\\data\\dataloader.py:665: UserWarning: 'pin_memory' argument is set as true but no accelerator is found, then device pinned memory won't be used.\n",
      "  warnings.warn(warn_msg)\n"
     ]
    },
    {
     "data": {
      "text/html": [
       "\n",
       "    <div>\n",
       "      \n",
       "      <progress value='2' max='2' style='width:300px; height:20px; vertical-align: middle;'></progress>\n",
       "      [2/2 00:06, Epoch 2/2]\n",
       "    </div>\n",
       "    <table border=\"1\" class=\"dataframe\">\n",
       "  <thead>\n",
       " <tr style=\"text-align: left;\">\n",
       "      <th>Step</th>\n",
       "      <th>Training Loss</th>\n",
       "    </tr>\n",
       "  </thead>\n",
       "  <tbody>\n",
       "  </tbody>\n",
       "</table><p>"
      ],
      "text/plain": [
       "<IPython.core.display.HTML object>"
      ]
     },
     "metadata": {},
     "output_type": "display_data"
    }
   ],
   "source": [
    "# Fine-tuning Setup\n",
    "model = AutoModelForQuestionAnswering.from_pretrained(\"bert-base-uncased\")\n",
    "\n",
    "training_args = TrainingArguments(\n",
    "    output_dir=\"./results\",\n",
    "    per_device_train_batch_size=2,\n",
    "    learning_rate=2e-5,\n",
    "    num_train_epochs=2,\n",
    "    logging_dir=\"./logs\",\n",
    "    logging_steps=10\n",
    ")\n",
    "\n",
    "trainer = Trainer(\n",
    "    model=model,\n",
    "    args=training_args,\n",
    "    train_dataset=tokenized_dataset\n",
    ")\n",
    "\n",
    "trainer.train()\n",
    "trainer.save_model(\"dc-edu-qa-bert\")"
   ]
  },
  {
   "cell_type": "code",
   "execution_count": 9,
   "metadata": {},
   "outputs": [
    {
     "name": "stderr",
     "output_type": "stream",
     "text": [
      "Device set to use cpu\n",
      "c:\\Users\\User\\anaconda3\\Lib\\site-packages\\transformers\\pipelines\\question_answering.py:390: FutureWarning: Passing a list of SQuAD examples to the pipeline is deprecated and will be removed in v5. Inputs should be passed using the `question` and `context` keyword arguments instead.\n",
      "  warnings.warn(\n"
     ]
    },
    {
     "name": "stdout",
     "output_type": "stream",
     "text": [
      "{'score': 0.00012695101031567901, 'start': 13741, 'end': 13756, 'answer': 'www.apa.org/ed/'}\n"
     ]
    }
   ],
   "source": [
    "# Evaluate Sample QA\n",
    "qa_pipe = pipeline(\"question-answering\", model=model, tokenizer=tokenizer)\n",
    "\n",
    "result = qa_pipe({\n",
    "    \"context\": qa_data[0][\"context\"],\n",
    "    \"question\": qa_data[0][\"question\"]\n",
    "})\n",
    "print(result)"
   ]
  },
  {
   "cell_type": "markdown",
   "metadata": {},
   "source": [
    "### Evaluation Summary\n",
    "- Trained for 2 epochs\n",
    "- Model returns span predictions with confidence score\n",
    "- Used Hugging Face BERT, tokenization, filtered legal data by D.C./education, fine-tuned on 2 epochs, evaluated using confidence score."
   ]
  },
  {
   "cell_type": "markdown",
   "metadata": {},
   "source": [
    "### Debugging Summary\n",
    "- Fixed missing `start_positions` and `end_positions` which caused training crash\n",
    "- Added logic to calculate those from `answer_start`"
   ]
  },
  {
   "cell_type": "markdown",
   "metadata": {},
   "source": [
    "###  Creative Application Summary\n",
    "- Legal QA assistant for education rights in D.C.\n",
    "- Could be used by parents, advocates, or education lawyers"
   ]
  },
  {
   "cell_type": "markdown",
   "metadata": {},
   "source": [
    "### Future Iteration\n",
    "- Incorporate addidtional debbugging and evalution metrics\n",
    "- Produce more training logs and data"
   ]
  }
 ],
 "metadata": {
  "kernelspec": {
   "display_name": "base",
   "language": "python",
   "name": "python3"
  },
  "language_info": {
   "codemirror_mode": {
    "name": "ipython",
    "version": 3
   },
   "file_extension": ".py",
   "mimetype": "text/x-python",
   "name": "python",
   "nbconvert_exporter": "python",
   "pygments_lexer": "ipython3",
   "version": "3.12.7"
  }
 },
 "nbformat": 4,
 "nbformat_minor": 2
}
